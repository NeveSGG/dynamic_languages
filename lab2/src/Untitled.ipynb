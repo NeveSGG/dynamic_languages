{
 "cells": [
  {
   "cell_type": "code",
   "execution_count": null,
   "id": "e05ddaff-182f-4440-a4e9-14b27e05e5a9",
   "metadata": {},
   "outputs": [],
   "source": [
    "file_path = \"../dataset/result_dataset.csv\"\n",
    "data = pd.read_csv(file_path)"
   ]
  }
 ],
 "metadata": {
  "kernelspec": {
   "display_name": "Python 3 (ipykernel)",
   "language": "python",
   "name": "python3"
  },
  "language_info": {
   "codemirror_mode": {
    "name": "ipython",
    "version": 3
   },
   "file_extension": ".py",
   "mimetype": "text/x-python",
   "name": "python",
   "nbconvert_exporter": "python",
   "pygments_lexer": "ipython3",
   "version": "3.11.2"
  }
 },
 "nbformat": 4,
 "nbformat_minor": 5
}
